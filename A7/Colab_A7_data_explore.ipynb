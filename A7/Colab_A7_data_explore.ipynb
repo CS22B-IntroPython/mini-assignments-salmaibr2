{
 "cells": [
  {
   "cell_type": "markdown",
   "metadata": {
    "id": "XXueMou6e2fW"
   },
   "source": [
    "# Data Exploration with Pandas\n",
    "<table><tr><td>\n",
    "<img src=\"https://resizing.flixster.com/Grjhpv0wcwgi-uhfaC3QM8KFglY=/ems.cHJkLWVtcy1hc3NldHMvbW92aWVzLzdmOWE4MWFiLWVlOWMtNDA4Mi05OTA0LTRiNjMxNTEwMzk1MC5qcGc=\" height=300><a href=\"https://resizing.flixster.com/Grjhpv0wcwgi-uhfaC3QM8KFglY=/ems.cHJkLWVtcy1hc3NldHMvbW92aWVzLzdmOWE4MWFiLWVlOWMtNDA4Mi05OTA0LTRiNjMxNTEwMzk1MC5qcGc=\">source</a></td><td><img src=\"https://encrypted-tbn2.gstatic.com/images?q=tbn:ANd9GcRQCHfe9VV3K3Efxv5PYQ_6NYpB20WkKS1zW21UEUmhW1lalECnbwTH3nwQL8XprEMTUCtPeA\" height=300><a href=\"https://encrypted-tbn2.gstatic.com/images?q=tbn:ANd9GcRQCHfe9VV3K3Efxv5PYQ_6NYpB20WkKS1zW21UEUmhW1lalECnbwTH3nwQL8XprEMTUCtPeA\">source</a></td></tr></table>"
   ]
  },
  {
   "cell_type": "code",
   "execution_count": 2,
   "metadata": {
    "id": "hyL8ePRTe2fa"
   },
   "outputs": [],
   "source": [
    "# importing the package(s) we want to use\n",
    "import pandas as pd"
   ]
  },
  {
   "cell_type": "markdown",
   "metadata": {
    "id": "6PdpBU4Ce2fi"
   },
   "source": [
    "### Let's explore the movies data set more! ###\n",
    "We'll use the `pd.read_csv()` function to read the csv file into a DataFrame."
   ]
  },
  {
   "cell_type": "code",
   "execution_count": 3,
   "metadata": {
    "colab": {
     "base_uri": "https://localhost:8080/",
     "height": 206
    },
    "id": "HlU8VYjYe2fi",
    "outputId": "5e207edf-1124-4812-f69c-8ea64ac99a4f"
   },
   "outputs": [
    {
     "data": {
      "text/html": [
       "<div>\n",
       "<style scoped>\n",
       "    .dataframe tbody tr th:only-of-type {\n",
       "        vertical-align: middle;\n",
       "    }\n",
       "\n",
       "    .dataframe tbody tr th {\n",
       "        vertical-align: top;\n",
       "    }\n",
       "\n",
       "    .dataframe thead th {\n",
       "        text-align: right;\n",
       "    }\n",
       "</style>\n",
       "<table border=\"1\" class=\"dataframe\">\n",
       "  <thead>\n",
       "    <tr style=\"text-align: right;\">\n",
       "      <th></th>\n",
       "      <th>Title</th>\n",
       "      <th>Gross</th>\n",
       "      <th>Gross (Adjusted)</th>\n",
       "      <th>Year</th>\n",
       "    </tr>\n",
       "  </thead>\n",
       "  <tbody>\n",
       "    <tr>\n",
       "      <th>0</th>\n",
       "      <td>Gone with the Wind</td>\n",
       "      <td>200852579</td>\n",
       "      <td>1895421694</td>\n",
       "      <td>1939</td>\n",
       "    </tr>\n",
       "    <tr>\n",
       "      <th>1</th>\n",
       "      <td>Star Wars: Episode IV - A New Hope</td>\n",
       "      <td>460998507</td>\n",
       "      <td>1668979715</td>\n",
       "      <td>1977</td>\n",
       "    </tr>\n",
       "    <tr>\n",
       "      <th>2</th>\n",
       "      <td>The Sound of Music</td>\n",
       "      <td>159287539</td>\n",
       "      <td>1335086324</td>\n",
       "      <td>1965</td>\n",
       "    </tr>\n",
       "    <tr>\n",
       "      <th>3</th>\n",
       "      <td>E.T. the Extra-Terrestrial</td>\n",
       "      <td>435110554</td>\n",
       "      <td>1329174791</td>\n",
       "      <td>1982</td>\n",
       "    </tr>\n",
       "    <tr>\n",
       "      <th>4</th>\n",
       "      <td>Titanic</td>\n",
       "      <td>659363944</td>\n",
       "      <td>1270101626</td>\n",
       "      <td>1997</td>\n",
       "    </tr>\n",
       "  </tbody>\n",
       "</table>\n",
       "</div>"
      ],
      "text/plain": [
       "                                Title      Gross  Gross (Adjusted)  Year\n",
       "0                  Gone with the Wind  200852579        1895421694  1939\n",
       "1  Star Wars: Episode IV - A New Hope  460998507        1668979715  1977\n",
       "2                  The Sound of Music  159287539        1335086324  1965\n",
       "3          E.T. the Extra-Terrestrial  435110554        1329174791  1982\n",
       "4                             Titanic  659363944        1270101626  1997"
      ]
     },
     "execution_count": 3,
     "metadata": {},
     "output_type": "execute_result"
    }
   ],
   "source": [
    "csvFile = 'https://raw.githubusercontent.com/csbfx/advpy122-data/master/top_movies_2020.csv'\n",
    "\n",
    "movies = pd.read_csv(csvFile)\n",
    "movies.head()"
   ]
  },
  {
   "cell_type": "markdown",
   "metadata": {
    "id": "of1jJGGAJ6_G"
   },
   "source": [
    "### Initial data exploration"
   ]
  },
  {
   "cell_type": "markdown",
   "metadata": {
    "id": "3wyNMxsme2fj"
   },
   "source": [
    "We can examine the contents of the resultant DataFrame using the `head()` and `tail()` commands:"
   ]
  },
  {
   "cell_type": "code",
   "execution_count": 4,
   "metadata": {
    "id": "cp8cgjyse2fj"
   },
   "outputs": [
    {
     "data": {
      "text/html": [
       "<div>\n",
       "<style scoped>\n",
       "    .dataframe tbody tr th:only-of-type {\n",
       "        vertical-align: middle;\n",
       "    }\n",
       "\n",
       "    .dataframe tbody tr th {\n",
       "        vertical-align: top;\n",
       "    }\n",
       "\n",
       "    .dataframe thead th {\n",
       "        text-align: right;\n",
       "    }\n",
       "</style>\n",
       "<table border=\"1\" class=\"dataframe\">\n",
       "  <thead>\n",
       "    <tr style=\"text-align: right;\">\n",
       "      <th></th>\n",
       "      <th>Title</th>\n",
       "      <th>Gross</th>\n",
       "      <th>Gross (Adjusted)</th>\n",
       "      <th>Year</th>\n",
       "    </tr>\n",
       "  </thead>\n",
       "  <tbody>\n",
       "    <tr>\n",
       "      <th>0</th>\n",
       "      <td>Gone with the Wind</td>\n",
       "      <td>200852579</td>\n",
       "      <td>1895421694</td>\n",
       "      <td>1939</td>\n",
       "    </tr>\n",
       "    <tr>\n",
       "      <th>1</th>\n",
       "      <td>Star Wars: Episode IV - A New Hope</td>\n",
       "      <td>460998507</td>\n",
       "      <td>1668979715</td>\n",
       "      <td>1977</td>\n",
       "    </tr>\n",
       "    <tr>\n",
       "      <th>2</th>\n",
       "      <td>The Sound of Music</td>\n",
       "      <td>159287539</td>\n",
       "      <td>1335086324</td>\n",
       "      <td>1965</td>\n",
       "    </tr>\n",
       "  </tbody>\n",
       "</table>\n",
       "</div>"
      ],
      "text/plain": [
       "                                Title      Gross  Gross (Adjusted)  Year\n",
       "0                  Gone with the Wind  200852579        1895421694  1939\n",
       "1  Star Wars: Episode IV - A New Hope  460998507        1668979715  1977\n",
       "2                  The Sound of Music  159287539        1335086324  1965"
      ]
     },
     "execution_count": 4,
     "metadata": {},
     "output_type": "execute_result"
    }
   ],
   "source": [
    "### Take a look at the top 3 values of the file\n",
    "movies.head(3)"
   ]
  },
  {
   "cell_type": "code",
   "execution_count": 5,
   "metadata": {
    "id": "Op7hgmy7JwaU"
   },
   "outputs": [
    {
     "data": {
      "text/html": [
       "<div>\n",
       "<style scoped>\n",
       "    .dataframe tbody tr th:only-of-type {\n",
       "        vertical-align: middle;\n",
       "    }\n",
       "\n",
       "    .dataframe tbody tr th {\n",
       "        vertical-align: top;\n",
       "    }\n",
       "\n",
       "    .dataframe thead th {\n",
       "        text-align: right;\n",
       "    }\n",
       "</style>\n",
       "<table border=\"1\" class=\"dataframe\">\n",
       "  <thead>\n",
       "    <tr style=\"text-align: right;\">\n",
       "      <th></th>\n",
       "      <th>Title</th>\n",
       "      <th>Gross</th>\n",
       "      <th>Gross (Adjusted)</th>\n",
       "      <th>Year</th>\n",
       "    </tr>\n",
       "  </thead>\n",
       "  <tbody>\n",
       "    <tr>\n",
       "      <th>195</th>\n",
       "      <td>Patton</td>\n",
       "      <td>61749765</td>\n",
       "      <td>373287682</td>\n",
       "      <td>1970</td>\n",
       "    </tr>\n",
       "    <tr>\n",
       "      <th>196</th>\n",
       "      <td>Fatal Attraction</td>\n",
       "      <td>156645693</td>\n",
       "      <td>371808159</td>\n",
       "      <td>1987</td>\n",
       "    </tr>\n",
       "    <tr>\n",
       "      <th>197</th>\n",
       "      <td>Iron Man 2</td>\n",
       "      <td>312433331</td>\n",
       "      <td>371691971</td>\n",
       "      <td>2010</td>\n",
       "    </tr>\n",
       "    <tr>\n",
       "      <th>198</th>\n",
       "      <td>Zootopia</td>\n",
       "      <td>341268248</td>\n",
       "      <td>371109157</td>\n",
       "      <td>2016</td>\n",
       "    </tr>\n",
       "    <tr>\n",
       "      <th>199</th>\n",
       "      <td>Liar Liar</td>\n",
       "      <td>181410615</td>\n",
       "      <td>370330510</td>\n",
       "      <td>1997</td>\n",
       "    </tr>\n",
       "  </tbody>\n",
       "</table>\n",
       "</div>"
      ],
      "text/plain": [
       "                Title      Gross  Gross (Adjusted)  Year\n",
       "195            Patton   61749765         373287682  1970\n",
       "196  Fatal Attraction  156645693         371808159  1987\n",
       "197        Iron Man 2  312433331         371691971  2010\n",
       "198          Zootopia  341268248         371109157  2016\n",
       "199         Liar Liar  181410615         370330510  1997"
      ]
     },
     "execution_count": 5,
     "metadata": {},
     "output_type": "execute_result"
    }
   ],
   "source": [
    "### How about the last 5 values of a the file?\n",
    "movies.tail(5)"
   ]
  },
  {
   "cell_type": "markdown",
   "metadata": {
    "id": "L8uiEv0ue2fl"
   },
   "source": [
    "Use the info() method to get a quick description of the dataframe"
   ]
  },
  {
   "cell_type": "code",
   "execution_count": 6,
   "metadata": {
    "id": "rYu2xgUme2fl"
   },
   "outputs": [
    {
     "name": "stdout",
     "output_type": "stream",
     "text": [
      "<class 'pandas.core.frame.DataFrame'>\n",
      "RangeIndex: 200 entries, 0 to 199\n",
      "Data columns (total 4 columns):\n",
      " #   Column            Non-Null Count  Dtype \n",
      "---  ------            --------------  ----- \n",
      " 0   Title             200 non-null    object\n",
      " 1   Gross             200 non-null    int64 \n",
      " 2   Gross (Adjusted)  200 non-null    int64 \n",
      " 3   Year              200 non-null    int64 \n",
      "dtypes: int64(3), object(1)\n",
      "memory usage: 6.4+ KB\n"
     ]
    }
   ],
   "source": [
    "### Get a quick summary of the data using the info() method\n",
    "movies.info()"
   ]
  },
  {
   "cell_type": "markdown",
   "metadata": {
    "id": "AL-bvKhEZo6K"
   },
   "source": [
    "# Working to filter different elements"
   ]
  },
  {
   "cell_type": "markdown",
   "metadata": {
    "id": "VU4n-R0ypGwy"
   },
   "source": [
    "Using iloc and loc to extract specific rows and columns"
   ]
  },
  {
   "cell_type": "code",
   "execution_count": 7,
   "metadata": {
    "id": "ENqPweADZnlC"
   },
   "outputs": [
    {
     "data": {
      "text/plain": [
       "0    200852579\n",
       "1    460998507\n",
       "2    159287539\n",
       "3    435110554\n",
       "4    659363944\n",
       "5     65500000\n",
       "6    260758300\n",
       "7    111721910\n",
       "8    232906145\n",
       "9    184925486\n",
       "Name: Gross, dtype: int64"
      ]
     },
     "execution_count": 7,
     "metadata": {},
     "output_type": "execute_result"
    }
   ],
   "source": [
    "### Get the first 10 elements (movies) of the second column and convert it into a series with a name\n",
    "ser1 = movies.iloc[:10, 1]\n",
    "ser1"
   ]
  },
  {
   "cell_type": "code",
   "execution_count": 8,
   "metadata": {
    "id": "kRy9tINCEYoh"
   },
   "outputs": [
    {
     "data": {
      "text/plain": [
       "0                    Gone with the Wind\n",
       "1    Star Wars: Episode IV - A New Hope\n",
       "2                    The Sound of Music\n",
       "3            E.T. the Extra-Terrestrial\n",
       "4                               Titanic\n",
       "5                  The Ten Commandments\n",
       "6                                  Jaws\n",
       "7                        Doctor Zhivago\n",
       "8                          The Exorcist\n",
       "9       Snow White and the Seven Dwarfs\n",
       "Name: Title, dtype: string"
      ]
     },
     "execution_count": 8,
     "metadata": {},
     "output_type": "execute_result"
    }
   ],
   "source": [
    "### Get the names of the first 10 movies and convert it into a series and give it type string\n",
    "ser2 = movies.iloc[:10, 0].astype(\"string\")\n",
    "ser2"
   ]
  },
  {
   "cell_type": "code",
   "execution_count": 9,
   "metadata": {
    "id": "i2B4YKO0F1aH"
   },
   "outputs": [
    {
     "data": {
      "text/html": [
       "<div>\n",
       "<style scoped>\n",
       "    .dataframe tbody tr th:only-of-type {\n",
       "        vertical-align: middle;\n",
       "    }\n",
       "\n",
       "    .dataframe tbody tr th {\n",
       "        vertical-align: top;\n",
       "    }\n",
       "\n",
       "    .dataframe thead th {\n",
       "        text-align: right;\n",
       "    }\n",
       "</style>\n",
       "<table border=\"1\" class=\"dataframe\">\n",
       "  <thead>\n",
       "    <tr style=\"text-align: right;\">\n",
       "      <th></th>\n",
       "      <th>Title</th>\n",
       "      <th>Gross</th>\n",
       "      <th>Gross (Adjusted)</th>\n",
       "    </tr>\n",
       "  </thead>\n",
       "  <tbody>\n",
       "    <tr>\n",
       "      <th>180</th>\n",
       "      <td>Guardians of the Galaxy</td>\n",
       "      <td>333176600</td>\n",
       "      <td>385834112</td>\n",
       "    </tr>\n",
       "    <tr>\n",
       "      <th>181</th>\n",
       "      <td>Furious 7</td>\n",
       "      <td>353007020</td>\n",
       "      <td>384393006</td>\n",
       "    </tr>\n",
       "    <tr>\n",
       "      <th>182</th>\n",
       "      <td>Mission: Impossible</td>\n",
       "      <td>180981856</td>\n",
       "      <td>383664957</td>\n",
       "    </tr>\n",
       "    <tr>\n",
       "      <th>183</th>\n",
       "      <td>The Hunger Games: Mockingjay - Part 1</td>\n",
       "      <td>337135885</td>\n",
       "      <td>381611053</td>\n",
       "    </tr>\n",
       "    <tr>\n",
       "      <th>184</th>\n",
       "      <td>Minions</td>\n",
       "      <td>336045770</td>\n",
       "      <td>381492054</td>\n",
       "    </tr>\n",
       "    <tr>\n",
       "      <th>185</th>\n",
       "      <td>Harry Potter and the Half-Blood Prince</td>\n",
       "      <td>302305431</td>\n",
       "      <td>381195025</td>\n",
       "    </tr>\n",
       "    <tr>\n",
       "      <th>186</th>\n",
       "      <td>Saturday Night Fever</td>\n",
       "      <td>94213184</td>\n",
       "      <td>380466039</td>\n",
       "    </tr>\n",
       "    <tr>\n",
       "      <th>187</th>\n",
       "      <td>On Golden Pond</td>\n",
       "      <td>119285432</td>\n",
       "      <td>380274891</td>\n",
       "    </tr>\n",
       "    <tr>\n",
       "      <th>188</th>\n",
       "      <td>Austin Powers: The Spy Who Shagged Me</td>\n",
       "      <td>206040086</td>\n",
       "      <td>380038767</td>\n",
       "    </tr>\n",
       "    <tr>\n",
       "      <th>189</th>\n",
       "      <td>Harry Potter and the Prisoner of Azkaban</td>\n",
       "      <td>249975996</td>\n",
       "      <td>378596724</td>\n",
       "    </tr>\n",
       "    <tr>\n",
       "      <th>190</th>\n",
       "      <td>Bruce Almighty</td>\n",
       "      <td>242829261</td>\n",
       "      <td>377331774</td>\n",
       "    </tr>\n",
       "    <tr>\n",
       "      <th>191</th>\n",
       "      <td>Funny Girl</td>\n",
       "      <td>52223306</td>\n",
       "      <td>375170115</td>\n",
       "    </tr>\n",
       "    <tr>\n",
       "      <th>192</th>\n",
       "      <td>Mission: Impossible II</td>\n",
       "      <td>215409889</td>\n",
       "      <td>374469239</td>\n",
       "    </tr>\n",
       "    <tr>\n",
       "      <th>193</th>\n",
       "      <td>Rush Hour 2</td>\n",
       "      <td>226164286</td>\n",
       "      <td>374410208</td>\n",
       "    </tr>\n",
       "    <tr>\n",
       "      <th>194</th>\n",
       "      <td>Apollo 13</td>\n",
       "      <td>173837933</td>\n",
       "      <td>373466649</td>\n",
       "    </tr>\n",
       "    <tr>\n",
       "      <th>195</th>\n",
       "      <td>Patton</td>\n",
       "      <td>61749765</td>\n",
       "      <td>373287682</td>\n",
       "    </tr>\n",
       "    <tr>\n",
       "      <th>196</th>\n",
       "      <td>Fatal Attraction</td>\n",
       "      <td>156645693</td>\n",
       "      <td>371808159</td>\n",
       "    </tr>\n",
       "    <tr>\n",
       "      <th>197</th>\n",
       "      <td>Iron Man 2</td>\n",
       "      <td>312433331</td>\n",
       "      <td>371691971</td>\n",
       "    </tr>\n",
       "    <tr>\n",
       "      <th>198</th>\n",
       "      <td>Zootopia</td>\n",
       "      <td>341268248</td>\n",
       "      <td>371109157</td>\n",
       "    </tr>\n",
       "    <tr>\n",
       "      <th>199</th>\n",
       "      <td>Liar Liar</td>\n",
       "      <td>181410615</td>\n",
       "      <td>370330510</td>\n",
       "    </tr>\n",
       "  </tbody>\n",
       "</table>\n",
       "</div>"
      ],
      "text/plain": [
       "                                        Title      Gross  Gross (Adjusted)\n",
       "180                   Guardians of the Galaxy  333176600         385834112\n",
       "181                                 Furious 7  353007020         384393006\n",
       "182                       Mission: Impossible  180981856         383664957\n",
       "183     The Hunger Games: Mockingjay - Part 1  337135885         381611053\n",
       "184                                   Minions  336045770         381492054\n",
       "185    Harry Potter and the Half-Blood Prince  302305431         381195025\n",
       "186                      Saturday Night Fever   94213184         380466039\n",
       "187                            On Golden Pond  119285432         380274891\n",
       "188     Austin Powers: The Spy Who Shagged Me  206040086         380038767\n",
       "189  Harry Potter and the Prisoner of Azkaban  249975996         378596724\n",
       "190                            Bruce Almighty  242829261         377331774\n",
       "191                                Funny Girl   52223306         375170115\n",
       "192                    Mission: Impossible II  215409889         374469239\n",
       "193                               Rush Hour 2  226164286         374410208\n",
       "194                                 Apollo 13  173837933         373466649\n",
       "195                                    Patton   61749765         373287682\n",
       "196                          Fatal Attraction  156645693         371808159\n",
       "197                                Iron Man 2  312433331         371691971\n",
       "198                                  Zootopia  341268248         371109157\n",
       "199                                 Liar Liar  181410615         370330510"
      ]
     },
     "execution_count": 9,
     "metadata": {},
     "output_type": "execute_result"
    }
   ],
   "source": [
    "### Create a smaller dataframe with last 20 elements and all columns except 'Year'. Give the columns new custom names (your choice).\n",
    "movies.iloc[180:, 0:3]"
   ]
  },
  {
   "cell_type": "markdown",
   "metadata": {
    "id": "QK9I_3ripSwv"
   },
   "source": [
    "Subsetting the dataframe based on conditions"
   ]
  },
  {
   "cell_type": "code",
   "execution_count": 10,
   "metadata": {
    "id": "TdIg-TSgoqzL"
   },
   "outputs": [
    {
     "data": {
      "text/html": [
       "<div>\n",
       "<style scoped>\n",
       "    .dataframe tbody tr th:only-of-type {\n",
       "        vertical-align: middle;\n",
       "    }\n",
       "\n",
       "    .dataframe tbody tr th {\n",
       "        vertical-align: top;\n",
       "    }\n",
       "\n",
       "    .dataframe thead th {\n",
       "        text-align: right;\n",
       "    }\n",
       "</style>\n",
       "<table border=\"1\" class=\"dataframe\">\n",
       "  <thead>\n",
       "    <tr style=\"text-align: right;\">\n",
       "      <th></th>\n",
       "      <th>Title</th>\n",
       "      <th>Gross</th>\n",
       "      <th>Gross (Adjusted)</th>\n",
       "      <th>Year</th>\n",
       "    </tr>\n",
       "  </thead>\n",
       "  <tbody>\n",
       "    <tr>\n",
       "      <th>10</th>\n",
       "      <td>Star Wars: Episode VII - The Force Awakens</td>\n",
       "      <td>936662225</td>\n",
       "      <td>1013038487</td>\n",
       "      <td>2015</td>\n",
       "    </tr>\n",
       "    <tr>\n",
       "      <th>14</th>\n",
       "      <td>Avatar</td>\n",
       "      <td>760507625</td>\n",
       "      <td>911790952</td>\n",
       "      <td>2009</td>\n",
       "    </tr>\n",
       "    <tr>\n",
       "      <th>15</th>\n",
       "      <td>Avengers: Endgame</td>\n",
       "      <td>858373000</td>\n",
       "      <td>892669593</td>\n",
       "      <td>2019</td>\n",
       "    </tr>\n",
       "    <tr>\n",
       "      <th>28</th>\n",
       "      <td>The Avengers</td>\n",
       "      <td>623357910</td>\n",
       "      <td>720376844</td>\n",
       "      <td>2012</td>\n",
       "    </tr>\n",
       "    <tr>\n",
       "      <th>29</th>\n",
       "      <td>Jurassic World</td>\n",
       "      <td>652270625</td>\n",
       "      <td>719518552</td>\n",
       "      <td>2015</td>\n",
       "    </tr>\n",
       "    <tr>\n",
       "      <th>...</th>\n",
       "      <td>...</td>\n",
       "      <td>...</td>\n",
       "      <td>...</td>\n",
       "      <td>...</td>\n",
       "    </tr>\n",
       "    <tr>\n",
       "      <th>190</th>\n",
       "      <td>Bruce Almighty</td>\n",
       "      <td>242829261</td>\n",
       "      <td>377331774</td>\n",
       "      <td>2003</td>\n",
       "    </tr>\n",
       "    <tr>\n",
       "      <th>192</th>\n",
       "      <td>Mission: Impossible II</td>\n",
       "      <td>215409889</td>\n",
       "      <td>374469239</td>\n",
       "      <td>2000</td>\n",
       "    </tr>\n",
       "    <tr>\n",
       "      <th>193</th>\n",
       "      <td>Rush Hour 2</td>\n",
       "      <td>226164286</td>\n",
       "      <td>374410208</td>\n",
       "      <td>2001</td>\n",
       "    </tr>\n",
       "    <tr>\n",
       "      <th>197</th>\n",
       "      <td>Iron Man 2</td>\n",
       "      <td>312433331</td>\n",
       "      <td>371691971</td>\n",
       "      <td>2010</td>\n",
       "    </tr>\n",
       "    <tr>\n",
       "      <th>198</th>\n",
       "      <td>Zootopia</td>\n",
       "      <td>341268248</td>\n",
       "      <td>371109157</td>\n",
       "      <td>2016</td>\n",
       "    </tr>\n",
       "  </tbody>\n",
       "</table>\n",
       "<p>83 rows × 4 columns</p>\n",
       "</div>"
      ],
      "text/plain": [
       "                                          Title      Gross  Gross (Adjusted)  \\\n",
       "10   Star Wars: Episode VII - The Force Awakens  936662225        1013038487   \n",
       "14                                       Avatar  760507625         911790952   \n",
       "15                            Avengers: Endgame  858373000         892669593   \n",
       "28                                 The Avengers  623357910         720376844   \n",
       "29                               Jurassic World  652270625         719518552   \n",
       "..                                          ...        ...               ...   \n",
       "190                              Bruce Almighty  242829261         377331774   \n",
       "192                      Mission: Impossible II  215409889         374469239   \n",
       "193                                 Rush Hour 2  226164286         374410208   \n",
       "197                                  Iron Man 2  312433331         371691971   \n",
       "198                                    Zootopia  341268248         371109157   \n",
       "\n",
       "     Year  \n",
       "10   2015  \n",
       "14   2009  \n",
       "15   2019  \n",
       "28   2012  \n",
       "29   2015  \n",
       "..    ...  \n",
       "190  2003  \n",
       "192  2000  \n",
       "193  2001  \n",
       "197  2010  \n",
       "198  2016  \n",
       "\n",
       "[83 rows x 4 columns]"
      ]
     },
     "execution_count": 10,
     "metadata": {},
     "output_type": "execute_result"
    }
   ],
   "source": [
    "### Create a smaller dataframe with movies made in the year 2000s\n",
    "movies[movies[\"Year\"] >= 2000]\n"
   ]
  },
  {
   "cell_type": "code",
   "execution_count": 11,
   "metadata": {
    "id": "Tf3HYCn5JDB8"
   },
   "outputs": [
    {
     "data": {
      "text/html": [
       "<div>\n",
       "<style scoped>\n",
       "    .dataframe tbody tr th:only-of-type {\n",
       "        vertical-align: middle;\n",
       "    }\n",
       "\n",
       "    .dataframe tbody tr th {\n",
       "        vertical-align: top;\n",
       "    }\n",
       "\n",
       "    .dataframe thead th {\n",
       "        text-align: right;\n",
       "    }\n",
       "</style>\n",
       "<table border=\"1\" class=\"dataframe\">\n",
       "  <thead>\n",
       "    <tr style=\"text-align: right;\">\n",
       "      <th></th>\n",
       "      <th>Title</th>\n",
       "      <th>Gross</th>\n",
       "      <th>Gross (Adjusted)</th>\n",
       "      <th>Year</th>\n",
       "    </tr>\n",
       "  </thead>\n",
       "  <tbody>\n",
       "    <tr>\n",
       "      <th>0</th>\n",
       "      <td>Gone with the Wind</td>\n",
       "      <td>200852579</td>\n",
       "      <td>1895421694</td>\n",
       "      <td>1939</td>\n",
       "    </tr>\n",
       "    <tr>\n",
       "      <th>1</th>\n",
       "      <td>Star Wars: Episode IV - A New Hope</td>\n",
       "      <td>460998507</td>\n",
       "      <td>1668979715</td>\n",
       "      <td>1977</td>\n",
       "    </tr>\n",
       "  </tbody>\n",
       "</table>\n",
       "</div>"
      ],
      "text/plain": [
       "                                Title      Gross  Gross (Adjusted)  Year\n",
       "0                  Gone with the Wind  200852579        1895421694  1939\n",
       "1  Star Wars: Episode IV - A New Hope  460998507        1668979715  1977"
      ]
     },
     "execution_count": 11,
     "metadata": {},
     "output_type": "execute_result"
    }
   ],
   "source": [
    "### How many movies Gross (use 'Gross (Adjusted)') over 1,500,000,000?\n",
    "movies[movies[\"Gross (Adjusted)\"]>1500000000]"
   ]
  },
  {
   "cell_type": "markdown",
   "metadata": {
    "id": "dg7NUNTCpbSU"
   },
   "source": [
    "Customizing the dataframe"
   ]
  },
  {
   "cell_type": "code",
   "execution_count": 12,
   "metadata": {
    "id": "jLeVnvOtplcU"
   },
   "outputs": [],
   "source": [
    "### Use DataFrame.columns to change the column name to 'Movie','Gross', 'Gross_adj', and 'Year'\n",
    "movies.columns = [\"Movie\", \"Gross\", \"Gross_adj\", \"Year\"]\n"
   ]
  },
  {
   "cell_type": "code",
   "execution_count": 13,
   "metadata": {
    "id": "GOrFVLT4IgBH"
   },
   "outputs": [
    {
     "data": {
      "text/html": [
       "<div>\n",
       "<style scoped>\n",
       "    .dataframe tbody tr th:only-of-type {\n",
       "        vertical-align: middle;\n",
       "    }\n",
       "\n",
       "    .dataframe tbody tr th {\n",
       "        vertical-align: top;\n",
       "    }\n",
       "\n",
       "    .dataframe thead th {\n",
       "        text-align: right;\n",
       "    }\n",
       "</style>\n",
       "<table border=\"1\" class=\"dataframe\">\n",
       "  <thead>\n",
       "    <tr style=\"text-align: right;\">\n",
       "      <th></th>\n",
       "      <th>Gross</th>\n",
       "      <th>Gross_adj</th>\n",
       "      <th>Year</th>\n",
       "    </tr>\n",
       "    <tr>\n",
       "      <th>Movie</th>\n",
       "      <th></th>\n",
       "      <th></th>\n",
       "      <th></th>\n",
       "    </tr>\n",
       "  </thead>\n",
       "  <tbody>\n",
       "    <tr>\n",
       "      <th>Gone with the Wind</th>\n",
       "      <td>200852579</td>\n",
       "      <td>1895421694</td>\n",
       "      <td>1939</td>\n",
       "    </tr>\n",
       "    <tr>\n",
       "      <th>Star Wars: Episode IV - A New Hope</th>\n",
       "      <td>460998507</td>\n",
       "      <td>1668979715</td>\n",
       "      <td>1977</td>\n",
       "    </tr>\n",
       "    <tr>\n",
       "      <th>The Sound of Music</th>\n",
       "      <td>159287539</td>\n",
       "      <td>1335086324</td>\n",
       "      <td>1965</td>\n",
       "    </tr>\n",
       "  </tbody>\n",
       "</table>\n",
       "</div>"
      ],
      "text/plain": [
       "                                        Gross   Gross_adj  Year\n",
       "Movie                                                          \n",
       "Gone with the Wind                  200852579  1895421694  1939\n",
       "Star Wars: Episode IV - A New Hope  460998507  1668979715  1977\n",
       "The Sound of Music                  159287539  1335086324  1965"
      ]
     },
     "execution_count": 13,
     "metadata": {},
     "output_type": "execute_result"
    }
   ],
   "source": [
    "### Set the 'Movies' column as the index\n",
    "movies.set_index(\"Movie\", inplace=True)\n",
    "movies.head(3)"
   ]
  },
  {
   "cell_type": "markdown",
   "metadata": {
    "id": "qwl2u9Bppmn1"
   },
   "source": [
    "Getting some statistic about the data"
   ]
  },
  {
   "cell_type": "code",
   "execution_count": 14,
   "metadata": {
    "id": "00o1Bumept8i"
   },
   "outputs": [
    {
     "data": {
      "text/plain": [
       "count    2.000000e+02\n",
       "mean     2.564920e+08\n",
       "std      1.705675e+08\n",
       "min      9.183673e+06\n",
       "25%      1.169264e+08\n",
       "50%      2.341963e+08\n",
       "75%      3.633033e+08\n",
       "max      9.366622e+08\n",
       "Name: Gross, dtype: float64"
      ]
     },
     "execution_count": 14,
     "metadata": {},
     "output_type": "execute_result"
    }
   ],
   "source": [
    "### Get some statistical information about the 'Gross' column\n",
    "movies[\"Gross\"].describe()"
   ]
  },
  {
   "cell_type": "code",
   "execution_count": 15,
   "metadata": {
    "id": "46hKwDutp0yD"
   },
   "outputs": [
    {
     "data": {
      "text/plain": [
       "480388421.75"
      ]
     },
     "execution_count": 15,
     "metadata": {},
     "output_type": "execute_result"
    }
   ],
   "source": [
    "### What is the average 'Gross (Adjusted)' value for Movies from the 1990s?\n",
    "movies[movies[\"Year\"] == 1990][\"Gross_adj\"].mean()"
   ]
  },
  {
   "cell_type": "code",
   "execution_count": 16,
   "metadata": {
    "id": "eg4AevDxF0_T"
   },
   "outputs": [
    {
     "data": {
      "text/plain": [
       "227797683.4472427"
      ]
     },
     "execution_count": 16,
     "metadata": {},
     "output_type": "execute_result"
    }
   ],
   "source": [
    "### What is the standard deviation of 'Gross (Adjusted)'?\n",
    "movies[\"Gross_adj\"].std()"
   ]
  },
  {
   "cell_type": "code",
   "execution_count": null,
   "metadata": {},
   "outputs": [],
   "source": []
  },
  {
   "cell_type": "code",
   "execution_count": null,
   "metadata": {},
   "outputs": [],
   "source": []
  }
 ],
 "metadata": {
  "colab": {
   "provenance": []
  },
  "hide_input": false,
  "kernelspec": {
   "display_name": "Python 3 (ipykernel)",
   "language": "python",
   "name": "python3"
  },
  "language_info": {
   "codemirror_mode": {
    "name": "ipython",
    "version": 3
   },
   "file_extension": ".py",
   "mimetype": "text/x-python",
   "name": "python",
   "nbconvert_exporter": "python",
   "pygments_lexer": "ipython3",
   "version": "3.11.5"
  },
  "toc": {
   "base_numbering": 1,
   "nav_menu": {},
   "number_sections": true,
   "sideBar": true,
   "skip_h1_title": false,
   "title_cell": "Table of Contents",
   "title_sidebar": "Contents",
   "toc_cell": false,
   "toc_position": {},
   "toc_section_display": true,
   "toc_window_display": false
  }
 },
 "nbformat": 4,
 "nbformat_minor": 4
}
