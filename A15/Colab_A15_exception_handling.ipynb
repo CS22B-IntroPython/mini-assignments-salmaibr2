{
 "cells": [
  {
   "cell_type": "markdown",
   "metadata": {
    "id": "cYNS6s1m6Eah"
   },
   "source": [
    "# Exception handlling"
   ]
  },
  {
   "cell_type": "markdown",
   "metadata": {
    "id": "JaZ1okehzPDJ"
   },
   "source": [
    "## Hands-on Problem - (3 points)\n",
    "\n",
    "Write a Python function calculate_square_root(number) that takes a single argument number. The function should:\n",
    "\n",
    "Raise a ValueError with the message \"Input must be a non-negative number\" if the input is negative.\n",
    "\n",
    "Use a try-except block to catch the ValueError when you call the function and print the error message.\n",
    "If no exception occurs, return the square root of the number (you can use number ** 0.5 for simplicity)."
   ]
  },
  {
   "cell_type": "code",
   "execution_count": 3,
   "metadata": {
    "id": "XW3T2JmpzOel"
   },
   "outputs": [
    {
     "name": "stdout",
     "output_type": "stream",
     "text": [
      "5.0\n"
     ]
    }
   ],
   "source": [
    "import math\n",
    "\n",
    "def calculate_square_root(number):\n",
    "    try:\n",
    "        result = math.sqrt(number)\n",
    "    except ValueError:\n",
    "        \"Input must be a non-negative number\"\n",
    "    else:\n",
    "        print(result)\n",
    "        \n",
    "calculate_square_root(25)"
   ]
  },
  {
   "cell_type": "markdown",
   "metadata": {
    "id": "YKRqhi_rk_zc"
   },
   "source": [
    "## Hands-on Problem - (5 points) ##\n",
    "\n",
    "A Python programmer has written a piece of code below, that reads a DNA sequence from a file and splits it up into a set number of equal-sized pieces (ignoring any incomplete pieces at the end of the sequence). It asks the user to enter the name of the file and the number of pieces, calculates the length of each piece (by dividing the total length by the number of pieces), then uses a range() to print out each piece.\n",
    "\n",
    "Re-write the python program in the empty cell below. Use try/except blocks to handle all the potential exceptions that may arise such as giving it the name of a non-existent file, or entering zero when asked for the number of pieces – or indeed, entering something that isn't a number at all when asked for the number of pieces. The input file `dna_test.txt` can be used to test your program."
   ]
  },
  {
   "cell_type": "code",
   "execution_count": 4,
   "metadata": {
    "id": "zyVo0xbBk_zj"
   },
   "outputs": [
    {
     "name": "stdin",
     "output_type": "stream",
     "text": [
      "enter filename:\n",
      " hh\n"
     ]
    },
    {
     "ename": "SystemExit",
     "evalue": "not a valid filename",
     "output_type": "error",
     "traceback": [
      "An exception has occurred, use %tb to see the full traceback.\n",
      "\u001b[0;31mSystemExit\u001b[0m\u001b[0;31m:\u001b[0m not a valid filename\n"
     ]
    },
    {
     "name": "stderr",
     "output_type": "stream",
     "text": [
      "/Users/salmaibrahim/Library/Python/3.11/lib/python/site-packages/IPython/core/interactiveshell.py:3534: UserWarning: To exit: use 'exit', 'quit', or Ctrl-D.\n",
      "  warn(\"To exit: use 'exit', 'quit', or Ctrl-D.\", stacklevel=1)\n"
     ]
    }
   ],
   "source": [
    "## This is the original python program\n",
    "import os\n",
    "import sys\n",
    "\n",
    "DNA=\"CTAGCTAGGCGAGCTACGAGAGCTAGCGAGACATCGATCAGTACGATCGACTCGACTAGCTACGACTACGATCAGCTACGATC\"\n",
    "f = open(\"dna_test.txt\", 'w')\n",
    "f.write(DNA)\n",
    "f.close()\n",
    "\n",
    "# check for valid filename\n",
    "input_file = input('enter filename:\\n')\n",
    "if not os.path.isfile(input_file):\n",
    "    sys.exit('not a valid filename')\n",
    "\n",
    "f = open(input_file)\n",
    "dna = f.read().rstrip(\"\\n\")\n",
    "\n",
    "# check for valid number\n",
    "pieces = input('enter number of pieces:\\n')\n",
    "if not pieces.isdigit():\n",
    "    sys.exit('not a valid number')\n",
    "\n",
    "# check that number is not zero or negative\n",
    "pieces = int(pieces)\n",
    "if pieces <= 0:\n",
    "    sys.exit('number of pieces must be greater than zero')\n",
    "# do the processing\n",
    "piece_length = int(len(dna) / pieces)\n",
    "print('piece length is ' + str(piece_length))\n",
    "for start in range(0, len(dna)-piece_length+1, piece_length):\n",
    "    print(dna[start:start+piece_length])"
   ]
  },
  {
   "cell_type": "code",
   "execution_count": null,
   "metadata": {
    "id": "AqJtpC7uk_zm"
   },
   "outputs": [],
   "source": [
    "## Rewrite the code above using try/except blocks\n",
    "# Your code here . . .\n",
    "import os\n",
    "import sys\n",
    "\n",
    "DNA=\"CTAGCTAGGCGAGCTACGAGAGCTAGCGAGACATCGATCAGTACGATCGACTCGACTAGCTACGACTACGATCAGCTACGATC\"\n",
    "f = open(\"dna_test.txt\", 'w')\n",
    "f.write(DNA)\n",
    "f.close()\n",
    "\n",
    "# check for valid filename\n",
    "input_file = input('enter filename:\\n')\n",
    "try:\n",
    "    f = open(input_file)\n",
    "    dna = f.read().rstrip(\"\\n\")\n",
    "    f.close()\n",
    "except FileNotFoundError:\n",
    "    sys.exit('not a valid filename')\n",
    "\n",
    "# check for valid number\n",
    "\n",
    "pieces = input('enter number of pieces:\\n')\n",
    "try:\n",
    "    pieces = int(pieces)\n",
    "except TypeError:\n",
    "    sys.exit('not a valid number')\n",
    "\n",
    "# check that number is not zero or negative\n",
    "try:\n",
    "    if pieces <= 0:\n",
    "    rasie ValueError('number of pieces must be greater than zero')\n",
    "# do the processing\n",
    "    piece_length = int(len(dna) / pieces)\n",
    "    print('piece length is ' + str(piece_length))\n",
    "    for start in range(0, len(dna)-piece_length+1, piece_length):\n",
    "        print(dna[start:start+piece_length])\n",
    "\n",
    "except ValueError as e:\n",
    "    sys.exit(str(e))\n"
   ]
  },
  {
   "cell_type": "markdown",
   "metadata": {
    "id": "3TRVs2PUIB9_"
   },
   "source": [
    "## Hands-on Problem - (7 points)\n",
    "Write a Python class TemperatureConverter with the following functionality:\n",
    "\n",
    "\n",
    "### Constructor (__init__):\n",
    "\n",
    "\n",
    "1. Accepts two parameters: a numeric temperature and a scale (\"C\" for Celsius or \"F\" for Fahrenheit).\n",
    "\n",
    "2. Validates that: temperature is a number. Raise a TypeError if not.\n",
    "scale is either \"C\" or \"F\" (case-insensitive). Raise a ValueError if invalid.\n",
    "\n",
    "### Methods:\n",
    "\n",
    "1. to_fahrenheit(): Converts the temperature to Fahrenheit:\n",
    "-> If the scale is \"C\", check if the input is above absolute zero (-273.15°C). If not, raise a ValueError.\n",
    "-> If the scale is \"F\", return the temperature as-is.\n",
    "2. to_celsius(): Converts the temperature to Celsius:\n",
    "-> If the scale is \"F\", check if the input is above absolute zero (-459.67°F). If not, raise a ValueError.\n",
    "-> If the scale is \"C\", return the temperature as-is.\n",
    "\n",
    "### Requirements:\n",
    "\n",
    "Implement exception handling (try-except) for invalid inputs when creating an instance of the class or calling its methods.\n",
    "\n",
    "Demonstrate the following cases:\n",
    "\n",
    "Converting 100°C to Fahrenheit.\n",
    "\n",
    "Converting 32°F to Celsius.\n",
    "\n",
    "Passing an invalid scale (e.g., \"K\") to the constructor.\n",
    "\n",
    "Providing a temperature below absolute zero for either scale.\n"
   ]
  },
  {
   "cell_type": "code",
   "execution_count": 6,
   "metadata": {
    "id": "wvLYm-IWKwSm"
   },
   "outputs": [
    {
     "name": "stdout",
     "output_type": "stream",
     "text": [
      "212.0\n",
      "0.0\n"
     ]
    },
    {
     "ename": "ValueError",
     "evalue": "scale must be \"C\" for Celsius or \"F\" for Fahrenheit",
     "output_type": "error",
     "traceback": [
      "\u001b[0;31m---------------------------------------------------------------------------\u001b[0m",
      "\u001b[0;31mValueError\u001b[0m                                Traceback (most recent call last)",
      "Cell \u001b[0;32mIn[6], line 32\u001b[0m\n\u001b[1;32m     29\u001b[0m temp2 \u001b[38;5;241m=\u001b[39m TemperatureConverter(\u001b[38;5;241m32\u001b[39m, \u001b[38;5;124m\"\u001b[39m\u001b[38;5;124mF\u001b[39m\u001b[38;5;124m\"\u001b[39m) \n\u001b[1;32m     30\u001b[0m \u001b[38;5;28mprint\u001b[39m(temp2\u001b[38;5;241m.\u001b[39mto_celsius())\n\u001b[0;32m---> 32\u001b[0m temp3 \u001b[38;5;241m=\u001b[39m \u001b[43mTemperatureConverter\u001b[49m\u001b[43m(\u001b[49m\u001b[38;5;241;43m32\u001b[39;49m\u001b[43m,\u001b[49m\u001b[43m \u001b[49m\u001b[38;5;124;43m\"\u001b[39;49m\u001b[38;5;124;43mK\u001b[39;49m\u001b[38;5;124;43m\"\u001b[39;49m\u001b[43m)\u001b[49m \n\u001b[1;32m     33\u001b[0m \u001b[38;5;28mprint\u001b[39m(temp3)\n\u001b[1;32m     35\u001b[0m temp4 \u001b[38;5;241m=\u001b[39m TemperatureConverter(\u001b[38;5;241m-\u001b[39m\u001b[38;5;241m1000\u001b[39m, \u001b[38;5;124m\"\u001b[39m\u001b[38;5;124mC\u001b[39m\u001b[38;5;124m\"\u001b[39m)\n",
      "Cell \u001b[0;32mIn[6], line 6\u001b[0m, in \u001b[0;36mTemperatureConverter.__init__\u001b[0;34m(self, temp, scale)\u001b[0m\n\u001b[1;32m      4\u001b[0m     \u001b[38;5;28;01mraise\u001b[39;00m \u001b[38;5;167;01mTypeError\u001b[39;00m(\u001b[38;5;124m'\u001b[39m\u001b[38;5;124mTemperature must be number\u001b[39m\u001b[38;5;124m'\u001b[39m)\n\u001b[1;32m      5\u001b[0m \u001b[38;5;28;01mif\u001b[39;00m scale\u001b[38;5;241m.\u001b[39mupper() \u001b[38;5;129;01mnot\u001b[39;00m \u001b[38;5;129;01min\u001b[39;00m (\u001b[38;5;124m\"\u001b[39m\u001b[38;5;124mC\u001b[39m\u001b[38;5;124m\"\u001b[39m, \u001b[38;5;124m\"\u001b[39m\u001b[38;5;124mF\u001b[39m\u001b[38;5;124m\"\u001b[39m):\n\u001b[0;32m----> 6\u001b[0m     \u001b[38;5;28;01mraise\u001b[39;00m \u001b[38;5;167;01mValueError\u001b[39;00m(\u001b[38;5;124m'\u001b[39m\u001b[38;5;124mscale must be \u001b[39m\u001b[38;5;124m\"\u001b[39m\u001b[38;5;124mC\u001b[39m\u001b[38;5;124m\"\u001b[39m\u001b[38;5;124m for Celsius or \u001b[39m\u001b[38;5;124m\"\u001b[39m\u001b[38;5;124mF\u001b[39m\u001b[38;5;124m\"\u001b[39m\u001b[38;5;124m for Fahrenheit\u001b[39m\u001b[38;5;124m'\u001b[39m)\n\u001b[1;32m      8\u001b[0m \u001b[38;5;28mself\u001b[39m\u001b[38;5;241m.\u001b[39mtemp \u001b[38;5;241m=\u001b[39m temp\n\u001b[1;32m      9\u001b[0m \u001b[38;5;28mself\u001b[39m\u001b[38;5;241m.\u001b[39mscale \u001b[38;5;241m=\u001b[39m scale\n",
      "\u001b[0;31mValueError\u001b[0m: scale must be \"C\" for Celsius or \"F\" for Fahrenheit"
     ]
    }
   ],
   "source": [
    "class TemperatureConverter:\n",
    "    def __init__(self, temp, scale):\n",
    "        if not isinstance(temp, (int, float)):\n",
    "            raise TypeError('Temperature must be number')\n",
    "        if scale.upper() not in (\"C\", \"F\"):\n",
    "            raise ValueError('scale must be \"C\" for Celsius or \"F\" for Fahrenheit')\n",
    "        \n",
    "        self.temp = temp\n",
    "        self.scale = scale\n",
    " \n",
    "    def to_fahrenheit(self):\n",
    "        if self.scale == \"C\":\n",
    "            if self.temp < -273.15:\n",
    "                raise ValueError('Temperature cannot be below absolute zero (-273.15°C)')\n",
    "            return (self.temp * 9/5) + 32\n",
    "        else:  \n",
    "            return self.temp\n",
    "    def to_celsius(self):\n",
    "        if self.scale == \"F\":\n",
    "            if self.temp < -459.67:\n",
    "                raise ValueError('Temperature cannot be below absolute zero (-459.67°F)')\n",
    "            return (self.temp -32)*(5/9)\n",
    "        else:  \n",
    "            return self.temp \n",
    "            \n",
    "temp1 = TemperatureConverter(100, \"C\") \n",
    "print(temp1.to_fahrenheit())\n",
    "\n",
    "temp2 = TemperatureConverter(32, \"F\") \n",
    "print(temp2.to_celsius())\n",
    "\n",
    "# temp3 = TemperatureConverter(32, \"K\") \n",
    "# print(temp3)\n",
    "\n",
    "# temp4 = TemperatureConverter(-1000, \"C\")\n",
    "# print(temp4)\n",
    "\n",
    "\n"
   ]
  },
  {
   "cell_type": "code",
   "execution_count": null,
   "metadata": {},
   "outputs": [],
   "source": []
  }
 ],
 "metadata": {
  "colab": {
   "provenance": []
  },
  "hide_input": false,
  "kernelspec": {
   "display_name": "Python 3 (ipykernel)",
   "language": "python",
   "name": "python3"
  },
  "language_info": {
   "codemirror_mode": {
    "name": "ipython",
    "version": 3
   },
   "file_extension": ".py",
   "mimetype": "text/x-python",
   "name": "python",
   "nbconvert_exporter": "python",
   "pygments_lexer": "ipython3",
   "version": "3.11.5"
  },
  "toc": {
   "base_numbering": 1,
   "nav_menu": {},
   "number_sections": true,
   "sideBar": true,
   "skip_h1_title": false,
   "title_cell": "Table of Contents",
   "title_sidebar": "Contents",
   "toc_cell": false,
   "toc_position": {},
   "toc_section_display": true,
   "toc_window_display": false
  }
 },
 "nbformat": 4,
 "nbformat_minor": 4
}
