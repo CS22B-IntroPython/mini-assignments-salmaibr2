{
 "cells": [
  {
   "cell_type": "markdown",
   "metadata": {
    "id": "cP32wAV3Yi-4"
   },
   "source": [
    "##**Stack Questions**"
   ]
  },
  {
   "cell_type": "markdown",
   "metadata": {
    "id": "KqdNjm1oY_ss"
   },
   "source": [
    "## Question 1: Write a function to sort a stack."
   ]
  },
  {
   "cell_type": "code",
   "execution_count": 5,
   "metadata": {
    "id": "mb9K46p3Ym0N"
   },
   "outputs": [
    {
     "name": "stdout",
     "output_type": "stream",
     "text": [
      "[3, 23, 31, 34, 92, 98]\n"
     ]
    }
   ],
   "source": [
    "def sort_stack(stack):\n",
    "    tempstack = []\n",
    "    while stack:\n",
    "        temp = stack.pop()\n",
    "        while tempstack and tempstack[-1] < temp:\n",
    "            stack.append(tempstack.pop())\n",
    "        tempstack.append(temp)\n",
    "    while tempstack:\n",
    "        stack.append(tempstack.pop())\n",
    "    return stack\n",
    "\n",
    "stack = [34, 3, 31, 98, 92, 23]\n",
    "print(sort_stack(stack))"
   ]
  },
  {
   "cell_type": "markdown",
   "metadata": {
    "id": "jFxb6ss_Whwl"
   },
   "source": [
    "## Question 2: Depict the following image as a list.\n",
    "\n",
    "<img src=\"https://miro.medium.com/max/1050/1*XifPIMxbamGKhz5UAEdz2w.png\">\n",
    "\n",
    "#### Queue\n",
    "1. Add the number 9 to the list.\n",
    "2. Remove the first number (7) from the list.\n",
    "\n",
    "#### Stack\n",
    "3. Add the number 4 to the same list.\n",
    "4. Remove the last number added (4) from the list."
   ]
  },
  {
   "cell_type": "code",
   "execution_count": 14,
   "metadata": {
    "id": "XOm7YLTEWhwm"
   },
   "outputs": [
    {
     "name": "stdout",
     "output_type": "stream",
     "text": [
      "[3, 1, 6, 8, 9]\n",
      "[7, 3, 1, 6, 8]\n"
     ]
    }
   ],
   "source": [
    "#Your Answer:\n",
    "# Queue\n",
    "\n",
    "queue = [7, 3, 1, 6, 8]\n",
    "queue.append(9)\n",
    "queue.pop(0)\n",
    "print(queue)\n",
    "\n",
    "#Stack\n",
    "\n",
    "stack = [7, 3, 1, 6, 8]\n",
    "stack.append(4)\n",
    "stack.pop(-1)\n",
    "print(stack)\n",
    "\n",
    "\n"
   ]
  },
  {
   "cell_type": "markdown",
   "metadata": {
    "id": "tQ3kgHVtWhwn"
   },
   "source": [
    "#### Question 3: Nodes\n",
    "\n",
    "<img src=\"https://encrypted-tbn0.gstatic.com/images?q=tbn:ANd9GcQW8-twGk0hCILE-muHBnG93hZJh2Qvgs7pVA&s\">\n",
    "\n",
    "1. Use a data structure of your choice to denote the different nodes.\n",
    "\n",
    "2. Create a function that sums all of the \"children\". Test with the node 10 (Expected answer is 37).\n"
   ]
  },
  {
   "cell_type": "code",
   "execution_count": 6,
   "metadata": {
    "id": "UU0rjzjXWhwn"
   },
   "outputs": [
    {
     "name": "stdout",
     "output_type": "stream",
     "text": [
      "37\n"
     ]
    }
   ],
   "source": [
    "#Your Answer:\n",
    "def sum_all_children(node):\n",
    "    total = 0\n",
    "    visited = set()  # to avoid infinite loops\n",
    "    stack = [node]   \n",
    "\n",
    "    while stack:\n",
    "        current_node = stack.pop()\n",
    "        if current_node not in visited:\n",
    "            visited.add(current_node)\n",
    "            total += current_node \n",
    "            for child in graph[current_node]:\n",
    "                if child not in visited:\n",
    "                    stack.append(child)\n",
    "    return total\n",
    "    \n",
    "graph = {\n",
    "    1: [],\n",
    "    3: [1, 6],\n",
    "    4: [],\n",
    "    6: [7,4],\n",
    "    7: [],\n",
    "    8: [10, 3],\n",
    "    10: [14],\n",
    "    13: [],\n",
    "    14: [13]\n",
    "}\n",
    "\n",
    "print(sum_all_children(10))"
   ]
  },
  {
   "cell_type": "code",
   "execution_count": null,
   "metadata": {},
   "outputs": [],
   "source": []
  }
 ],
 "metadata": {
  "colab": {
   "provenance": []
  },
  "hide_input": false,
  "kernelspec": {
   "display_name": "Python 3 (ipykernel)",
   "language": "python",
   "name": "python3"
  },
  "language_info": {
   "codemirror_mode": {
    "name": "ipython",
    "version": 3
   },
   "file_extension": ".py",
   "mimetype": "text/x-python",
   "name": "python",
   "nbconvert_exporter": "python",
   "pygments_lexer": "ipython3",
   "version": "3.11.5"
  },
  "toc": {
   "base_numbering": 1,
   "nav_menu": {},
   "number_sections": true,
   "sideBar": true,
   "skip_h1_title": false,
   "title_cell": "Table of Contents",
   "title_sidebar": "Contents",
   "toc_cell": false,
   "toc_position": {},
   "toc_section_display": true,
   "toc_window_display": false
  }
 },
 "nbformat": 4,
 "nbformat_minor": 4
}
